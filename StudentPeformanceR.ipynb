{
 "cells": [
  {
   "cell_type": "code",
   "execution_count": 46,
   "metadata": {
    "vscode": {
     "languageId": "r"
    }
   },
   "outputs": [],
   "source": [
    "require(data.table)\n",
    "require(ltm)"
   ]
  },
  {
   "cell_type": "code",
   "execution_count": 3,
   "metadata": {
    "vscode": {
     "languageId": "r"
    }
   },
   "outputs": [],
   "source": [
    "# Lendo arquivo no data.table\n",
    "path_ = \"datasets/StudentPerformance/Student_Performance.csv\"\n",
    "\n",
    "studentPeformance = fread(path_)"
   ]
  },
  {
   "cell_type": "code",
   "execution_count": 4,
   "metadata": {
    "vscode": {
     "languageId": "r"
    }
   },
   "outputs": [
    {
     "data": {
      "text/html": [
       "<table class=\"dataframe\">\n",
       "<caption>A data.table: 5 × 6</caption>\n",
       "<thead>\n",
       "\t<tr><th scope=col>Hours Studied</th><th scope=col>Previous Scores</th><th scope=col>Extracurricular Activities</th><th scope=col>Sleep Hours</th><th scope=col>Sample Question Papers Practiced</th><th scope=col>Performance Index</th></tr>\n",
       "\t<tr><th scope=col>&lt;int&gt;</th><th scope=col>&lt;int&gt;</th><th scope=col>&lt;chr&gt;</th><th scope=col>&lt;int&gt;</th><th scope=col>&lt;int&gt;</th><th scope=col>&lt;dbl&gt;</th></tr>\n",
       "</thead>\n",
       "<tbody>\n",
       "\t<tr><td>7</td><td>99</td><td>Yes</td><td>9</td><td>1</td><td>91</td></tr>\n",
       "\t<tr><td>4</td><td>82</td><td>No </td><td>4</td><td>2</td><td>65</td></tr>\n",
       "\t<tr><td>8</td><td>51</td><td>Yes</td><td>7</td><td>2</td><td>45</td></tr>\n",
       "\t<tr><td>5</td><td>52</td><td>Yes</td><td>5</td><td>2</td><td>36</td></tr>\n",
       "\t<tr><td>7</td><td>75</td><td>No </td><td>8</td><td>5</td><td>66</td></tr>\n",
       "</tbody>\n",
       "</table>\n"
      ],
      "text/latex": [
       "A data.table: 5 × 6\n",
       "\\begin{tabular}{llllll}\n",
       " Hours Studied & Previous Scores & Extracurricular Activities & Sleep Hours & Sample Question Papers Practiced & Performance Index\\\\\n",
       " <int> & <int> & <chr> & <int> & <int> & <dbl>\\\\\n",
       "\\hline\n",
       "\t 7 & 99 & Yes & 9 & 1 & 91\\\\\n",
       "\t 4 & 82 & No  & 4 & 2 & 65\\\\\n",
       "\t 8 & 51 & Yes & 7 & 2 & 45\\\\\n",
       "\t 5 & 52 & Yes & 5 & 2 & 36\\\\\n",
       "\t 7 & 75 & No  & 8 & 5 & 66\\\\\n",
       "\\end{tabular}\n"
      ],
      "text/markdown": [
       "\n",
       "A data.table: 5 × 6\n",
       "\n",
       "| Hours Studied &lt;int&gt; | Previous Scores &lt;int&gt; | Extracurricular Activities &lt;chr&gt; | Sleep Hours &lt;int&gt; | Sample Question Papers Practiced &lt;int&gt; | Performance Index &lt;dbl&gt; |\n",
       "|---|---|---|---|---|---|\n",
       "| 7 | 99 | Yes | 9 | 1 | 91 |\n",
       "| 4 | 82 | No  | 4 | 2 | 65 |\n",
       "| 8 | 51 | Yes | 7 | 2 | 45 |\n",
       "| 5 | 52 | Yes | 5 | 2 | 36 |\n",
       "| 7 | 75 | No  | 8 | 5 | 66 |\n",
       "\n"
      ],
      "text/plain": [
       "  Hours Studied Previous Scores Extracurricular Activities Sleep Hours\n",
       "1 7             99              Yes                        9          \n",
       "2 4             82              No                         4          \n",
       "3 8             51              Yes                        7          \n",
       "4 5             52              Yes                        5          \n",
       "5 7             75              No                         8          \n",
       "  Sample Question Papers Practiced Performance Index\n",
       "1 1                                91               \n",
       "2 2                                65               \n",
       "3 2                                45               \n",
       "4 2                                36               \n",
       "5 5                                66               "
      ]
     },
     "metadata": {},
     "output_type": "display_data"
    }
   ],
   "source": [
    "head(x = studentPeformance, n = 5)"
   ]
  },
  {
   "cell_type": "markdown",
   "metadata": {},
   "source": [
    "Verificando valores nulos no `data.table`"
   ]
  },
  {
   "cell_type": "code",
   "execution_count": null,
   "metadata": {
    "vscode": {
     "languageId": "r"
    }
   },
   "outputs": [
    {
     "data": {
      "text/html": [
       "<table class=\"dataframe\">\n",
       "<caption>A data.frame: 6 × 2</caption>\n",
       "<thead>\n",
       "\t<tr><th scope=col>colunas</th><th scope=col>quantidade.de.valores.nulos</th></tr>\n",
       "\t<tr><th scope=col>&lt;chr&gt;</th><th scope=col>&lt;int&gt;</th></tr>\n",
       "</thead>\n",
       "<tbody>\n",
       "\t<tr><td>Hours Studied                   </td><td>0</td></tr>\n",
       "\t<tr><td>Previous Scores                 </td><td>0</td></tr>\n",
       "\t<tr><td>Extracurricular Activities      </td><td>0</td></tr>\n",
       "\t<tr><td>Sleep Hours                     </td><td>0</td></tr>\n",
       "\t<tr><td>Sample Question Papers Practiced</td><td>0</td></tr>\n",
       "\t<tr><td>Performance Index               </td><td>0</td></tr>\n",
       "</tbody>\n",
       "</table>\n"
      ],
      "text/latex": [
       "A data.frame: 6 × 2\n",
       "\\begin{tabular}{ll}\n",
       " colunas & quantidade.de.valores.nulos\\\\\n",
       " <chr> & <int>\\\\\n",
       "\\hline\n",
       "\t Hours Studied                    & 0\\\\\n",
       "\t Previous Scores                  & 0\\\\\n",
       "\t Extracurricular Activities       & 0\\\\\n",
       "\t Sleep Hours                      & 0\\\\\n",
       "\t Sample Question Papers Practiced & 0\\\\\n",
       "\t Performance Index                & 0\\\\\n",
       "\\end{tabular}\n"
      ],
      "text/markdown": [
       "\n",
       "A data.frame: 6 × 2\n",
       "\n",
       "| colunas &lt;chr&gt; | quantidade.de.valores.nulos &lt;int&gt; |\n",
       "|---|---|\n",
       "| Hours Studied                    | 0 |\n",
       "| Previous Scores                  | 0 |\n",
       "| Extracurricular Activities       | 0 |\n",
       "| Sleep Hours                      | 0 |\n",
       "| Sample Question Papers Practiced | 0 |\n",
       "| Performance Index                | 0 |\n",
       "\n"
      ],
      "text/plain": [
       "  colunas                          quantidade.de.valores.nulos\n",
       "1 Hours Studied                    0                          \n",
       "2 Previous Scores                  0                          \n",
       "3 Extracurricular Activities       0                          \n",
       "4 Sleep Hours                      0                          \n",
       "5 Sample Question Papers Practiced 0                          \n",
       "6 Performance Index                0                          "
      ]
     },
     "metadata": {},
     "output_type": "display_data"
    }
   ],
   "source": [
    "# Contando valores nulos em cada coluna\n",
    "count.na = studentPeformance[,\n",
    "    lapply(X = .SD,\n",
    "    FUN = function(x){\n",
    "        return(sum(is.null((x))))\n",
    "    })\n",
    "]\n",
    "\n",
    "# Criando o dataframe para melhor visualização\n",
    "data.frame(\n",
    "    colunas = names(count.na),\n",
    "    `quantidade de valores nulos` = transpose(count.na)[,V1]\n",
    ")"
   ]
  },
  {
   "cell_type": "code",
   "execution_count": 19,
   "metadata": {
    "vscode": {
     "languageId": "r"
    }
   },
   "outputs": [
    {
     "data": {
      "text/html": [
       "<table class=\"dataframe\">\n",
       "<caption>A data.table: 2 × 2</caption>\n",
       "<thead>\n",
       "\t<tr><th scope=col>Extracurricular Activities</th><th scope=col>N</th></tr>\n",
       "\t<tr><th scope=col>&lt;chr&gt;</th><th scope=col>&lt;int&gt;</th></tr>\n",
       "</thead>\n",
       "<tbody>\n",
       "\t<tr><td>Yes</td><td>4948</td></tr>\n",
       "\t<tr><td>No </td><td>5052</td></tr>\n",
       "</tbody>\n",
       "</table>\n"
      ],
      "text/latex": [
       "A data.table: 2 × 2\n",
       "\\begin{tabular}{ll}\n",
       " Extracurricular Activities & N\\\\\n",
       " <chr> & <int>\\\\\n",
       "\\hline\n",
       "\t Yes & 4948\\\\\n",
       "\t No  & 5052\\\\\n",
       "\\end{tabular}\n"
      ],
      "text/markdown": [
       "\n",
       "A data.table: 2 × 2\n",
       "\n",
       "| Extracurricular Activities &lt;chr&gt; | N &lt;int&gt; |\n",
       "|---|---|\n",
       "| Yes | 4948 |\n",
       "| No  | 5052 |\n",
       "\n"
      ],
      "text/plain": [
       "  Extracurricular Activities N   \n",
       "1 Yes                        4948\n",
       "2 No                         5052"
      ]
     },
     "metadata": {},
     "output_type": "display_data"
    }
   ],
   "source": [
    "horas.extracurricular = studentPeformance[, .N, by=\"Extracurricular Activities\"]\n",
    "horas.extracurricular"
   ]
  },
  {
   "cell_type": "code",
   "execution_count": 33,
   "metadata": {
    "vscode": {
     "languageId": "r"
    }
   },
   "outputs": [
    {
     "data": {
      "image/png": "[encoded data removed]",
      "text/plain": [
       "plot without title"
      ]
     },
     "metadata": {
      "image/png": {
       "height": 750,
       "width": 1500
      }
     },
     "output_type": "display_data"
    }
   ],
   "source": [
    "par(bg = \"white\")\n",
    "options(repr.plot.width = 10, repr.plot.height = 5, repr.plot.res = 300)\n",
    "\n",
    "\n",
    "pie( x      = horas.extracurricular[, N], \n",
    "     labels = c(\"Yes\", \"No\"))"
   ]
  },
  {
   "cell_type": "markdown",
   "metadata": {},
   "source": [
    "Correlação entre a variavel numerica e binaria. Performance Index e Atv. Extracurricular possui alta correlação|associação?"
   ]
  },
  {
   "cell_type": "code",
   "execution_count": 36,
   "metadata": {
    "vscode": {
     "languageId": "r"
    }
   },
   "outputs": [
    {
     "data": {
      "text/html": [
       "<table class=\"dataframe\">\n",
       "<caption>A data.table: 3 × 7</caption>\n",
       "<thead>\n",
       "\t<tr><th scope=col>Hours Studied</th><th scope=col>Previous Scores</th><th scope=col>Extracurricular Activities</th><th scope=col>Sleep Hours</th><th scope=col>Sample Question Papers Practiced</th><th scope=col>Performance Index</th><th scope=col>horas.extracurricular.bin</th></tr>\n",
       "\t<tr><th scope=col>&lt;int&gt;</th><th scope=col>&lt;int&gt;</th><th scope=col>&lt;chr&gt;</th><th scope=col>&lt;int&gt;</th><th scope=col>&lt;int&gt;</th><th scope=col>&lt;dbl&gt;</th><th scope=col>&lt;dbl&gt;</th></tr>\n",
       "</thead>\n",
       "<tbody>\n",
       "\t<tr><td>7</td><td>99</td><td>Yes</td><td>9</td><td>1</td><td>91</td><td>2</td></tr>\n",
       "\t<tr><td>4</td><td>82</td><td>No </td><td>4</td><td>2</td><td>65</td><td>1</td></tr>\n",
       "\t<tr><td>8</td><td>51</td><td>Yes</td><td>7</td><td>2</td><td>45</td><td>2</td></tr>\n",
       "</tbody>\n",
       "</table>\n"
      ],
      "text/latex": [
       "A data.table: 3 × 7\n",
       "\\begin{tabular}{lllllll}\n",
       " Hours Studied & Previous Scores & Extracurricular Activities & Sleep Hours & Sample Question Papers Practiced & Performance Index & horas.extracurricular.bin\\\\\n",
       " <int> & <int> & <chr> & <int> & <int> & <dbl> & <dbl>\\\\\n",
       "\\hline\n",
       "\t 7 & 99 & Yes & 9 & 1 & 91 & 2\\\\\n",
       "\t 4 & 82 & No  & 4 & 2 & 65 & 1\\\\\n",
       "\t 8 & 51 & Yes & 7 & 2 & 45 & 2\\\\\n",
       "\\end{tabular}\n"
      ],
      "text/markdown": [
       "\n",
       "A data.table: 3 × 7\n",
       "\n",
       "| Hours Studied &lt;int&gt; | Previous Scores &lt;int&gt; | Extracurricular Activities &lt;chr&gt; | Sleep Hours &lt;int&gt; | Sample Question Papers Practiced &lt;int&gt; | Performance Index &lt;dbl&gt; | horas.extracurricular.bin &lt;dbl&gt; |\n",
       "|---|---|---|---|---|---|---|\n",
       "| 7 | 99 | Yes | 9 | 1 | 91 | 2 |\n",
       "| 4 | 82 | No  | 4 | 2 | 65 | 1 |\n",
       "| 8 | 51 | Yes | 7 | 2 | 45 | 2 |\n",
       "\n"
      ],
      "text/plain": [
       "  Hours Studied Previous Scores Extracurricular Activities Sleep Hours\n",
       "1 7             99              Yes                        9          \n",
       "2 4             82              No                         4          \n",
       "3 8             51              Yes                        7          \n",
       "  Sample Question Papers Practiced Performance Index horas.extracurricular.bin\n",
       "1 1                                91                2                        \n",
       "2 2                                65                1                        \n",
       "3 2                                45                2                        "
      ]
     },
     "metadata": {},
     "output_type": "display_data"
    }
   ],
   "source": [
    "studentPeformance[, \n",
    "    horas.extracurricular.bin := as.numeric(\n",
    "        factor(studentPeformance$`Extracurricular Activities`)\n",
    "        )\n",
    "    ]\n",
    "head(studentPeformance,n = 3)"
   ]
  },
  {
   "cell_type": "code",
   "execution_count": null,
   "metadata": {
    "vscode": {
     "languageId": "r"
    }
   },
   "outputs": [
    {
     "data": {
      "text/html": [
       "0.0245249469675505"
      ],
      "text/latex": [
       "0.0245249469675505"
      ],
      "text/markdown": [
       "0.0245249469675505"
      ],
      "text/plain": [
       "[1] 0.02452495"
      ]
     },
     "metadata": {},
     "output_type": "display_data"
    }
   ],
   "source": [
    "# Usando a correlação de peason\n",
    "cor(\n",
    "    studentPeformance$`Performance Index`, studentPeformance$horas.extracurricular.bin,\n",
    "    method = c(\"pearson\")\n",
    ")"
   ]
  },
  {
   "cell_type": "markdown",
   "metadata": {},
   "source": [
    "> Possuem uma baixa correlação, mas verei outro metodo"
   ]
  },
  {
   "cell_type": "code",
   "execution_count": 47,
   "metadata": {
    "vscode": {
     "languageId": "r"
    }
   },
   "outputs": [
    {
     "data": {
      "text/html": [
       "-0.0245249469675506"
      ],
      "text/latex": [
       "-0.0245249469675506"
      ],
      "text/markdown": [
       "-0.0245249469675506"
      ],
      "text/plain": [
       "[1] -0.02452495"
      ]
     },
     "metadata": {},
     "output_type": "display_data"
    }
   ],
   "source": [
    "# PointBisserl\n",
    "biserial.cor(\n",
    "    x = studentPeformance$`Performance Index`,\n",
    "    y = studentPeformance$horas.extracurricular.bin\n",
    ")"
   ]
  },
  {
   "cell_type": "markdown",
   "metadata": {},
   "source": [
    "> Poderia remover essa varivel do modelo, contudo, vou utilizar todos e verificar por meio de teste de hipotese os coeficiente com significancia"
   ]
  },
  {
   "cell_type": "code",
   "execution_count": 51,
   "metadata": {
    "vscode": {
     "languageId": "r"
    }
   },
   "outputs": [],
   "source": [
    "# Verificando performane média de alunos em relação a horas de estudo\n",
    "\n",
    "perfomance.hora = studentPeformance[, \n",
    "    mean(`Performance Index`), by = \"Hours Studied\"\n",
    "    ]"
   ]
  },
  {
   "cell_type": "code",
   "execution_count": 58,
   "metadata": {
    "vscode": {
     "languageId": "r"
    }
   },
   "outputs": [
    {
     "data": {
      "image/png": "[encoded data removed]",
      "text/plain": [
       "plot without title"
      ]
     },
     "metadata": {
      "image/png": {
       "height": 500,
       "width": 800
      }
     },
     "output_type": "display_data"
    }
   ],
   "source": [
    "par(bg = \"white\")\n",
    "options(repr.plot.width = 8, repr.plot.height = 5, repr.plot.res = 200)\n",
    "\n",
    "barplot(V1~., data = perfomance.hora)"
   ]
  },
  {
   "cell_type": "markdown",
   "metadata": {},
   "source": [
    "Modelo Regressão Multipla R"
   ]
  },
  {
   "cell_type": "code",
   "execution_count": 59,
   "metadata": {
    "vscode": {
     "languageId": "r"
    }
   },
   "outputs": [],
   "source": [
    "model = NULL"
   ]
  }
 ],
 "metadata": {
  "kernelspec": {
   "display_name": "R",
   "language": "R",
   "name": "ir"
  },
  "language_info": {
   "codemirror_mode": "r",
   "file_extension": ".r",
   "mimetype": "text/x-r-source",
   "name": "R",
   "pygments_lexer": "r",
   "version": "4.4.1"
  }
 },
 "nbformat": 4,
 "nbformat_minor": 2
}
